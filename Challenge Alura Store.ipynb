{
  "nbformat": 4,
  "nbformat_minor": 0,
  "metadata": {
    "colab": {
      "provenance": []
    },
    "kernelspec": {
      "name": "python3",
      "display_name": "Python 3"
    },
    "language_info": {
      "name": "python"
    }
  },
  "cells": [
    {
      "cell_type": "markdown",
      "source": [
        "### Importação dos dados\n",
        "\n"
      ],
      "metadata": {
        "id": "RhEdWd9YUR6H"
      }
    },
    {
      "cell_type": "code",
      "execution_count": 7,
      "metadata": {
        "colab": {
          "base_uri": "https://localhost:8080/",
          "height": 293
        },
        "id": "T3EvaeQ_INIL",
        "outputId": "257d09fa-ee0a-46a1-aa45-440b246d3ead"
      },
      "outputs": [
        {
          "output_type": "execute_result",
          "data": {
            "text/plain": [
              "                 Produto Categoria do Produto    Preço      Frete  \\\n",
              "0     Assistente virtual          eletronicos   219.08   9.249790   \n",
              "1         Mesa de jantar               moveis   256.35  11.234305   \n",
              "2      Jogo de tabuleiro           brinquedos   279.51  21.262681   \n",
              "3            Micro-ondas     eletrodomesticos  1009.99  54.667344   \n",
              "4  Cadeira de escritório               moveis   446.99  26.964689   \n",
              "\n",
              "  Data da Compra        Vendedor Local da compra  Avaliação da compra  \\\n",
              "0     16/01/2021     Pedro Gomes              SP                    4   \n",
              "1     18/05/2022  Beatriz Moraes              RJ                    1   \n",
              "2     15/03/2021      João Souza              DF                    1   \n",
              "3     03/05/2022      João Souza              RS                    4   \n",
              "4     07/11/2020   Larissa Alves              MG                    5   \n",
              "\n",
              "  Tipo de pagamento  Quantidade de parcelas    lat    lon  \n",
              "0    cartao_credito                       8 -22.19 -48.79  \n",
              "1    cartao_credito                       4 -22.25 -42.66  \n",
              "2    cartao_credito                       1 -15.83 -47.86  \n",
              "3            boleto                       1 -30.17 -53.50  \n",
              "4            boleto                       1 -18.10 -44.38  "
            ],
            "text/html": [
              "\n",
              "  <div id=\"df-ceb8a85e-57b5-41f6-8e19-0209ff102fd8\" class=\"colab-df-container\">\n",
              "    <div>\n",
              "<style scoped>\n",
              "    .dataframe tbody tr th:only-of-type {\n",
              "        vertical-align: middle;\n",
              "    }\n",
              "\n",
              "    .dataframe tbody tr th {\n",
              "        vertical-align: top;\n",
              "    }\n",
              "\n",
              "    .dataframe thead th {\n",
              "        text-align: right;\n",
              "    }\n",
              "</style>\n",
              "<table border=\"1\" class=\"dataframe\">\n",
              "  <thead>\n",
              "    <tr style=\"text-align: right;\">\n",
              "      <th></th>\n",
              "      <th>Produto</th>\n",
              "      <th>Categoria do Produto</th>\n",
              "      <th>Preço</th>\n",
              "      <th>Frete</th>\n",
              "      <th>Data da Compra</th>\n",
              "      <th>Vendedor</th>\n",
              "      <th>Local da compra</th>\n",
              "      <th>Avaliação da compra</th>\n",
              "      <th>Tipo de pagamento</th>\n",
              "      <th>Quantidade de parcelas</th>\n",
              "      <th>lat</th>\n",
              "      <th>lon</th>\n",
              "    </tr>\n",
              "  </thead>\n",
              "  <tbody>\n",
              "    <tr>\n",
              "      <th>0</th>\n",
              "      <td>Assistente virtual</td>\n",
              "      <td>eletronicos</td>\n",
              "      <td>219.08</td>\n",
              "      <td>9.249790</td>\n",
              "      <td>16/01/2021</td>\n",
              "      <td>Pedro Gomes</td>\n",
              "      <td>SP</td>\n",
              "      <td>4</td>\n",
              "      <td>cartao_credito</td>\n",
              "      <td>8</td>\n",
              "      <td>-22.19</td>\n",
              "      <td>-48.79</td>\n",
              "    </tr>\n",
              "    <tr>\n",
              "      <th>1</th>\n",
              "      <td>Mesa de jantar</td>\n",
              "      <td>moveis</td>\n",
              "      <td>256.35</td>\n",
              "      <td>11.234305</td>\n",
              "      <td>18/05/2022</td>\n",
              "      <td>Beatriz Moraes</td>\n",
              "      <td>RJ</td>\n",
              "      <td>1</td>\n",
              "      <td>cartao_credito</td>\n",
              "      <td>4</td>\n",
              "      <td>-22.25</td>\n",
              "      <td>-42.66</td>\n",
              "    </tr>\n",
              "    <tr>\n",
              "      <th>2</th>\n",
              "      <td>Jogo de tabuleiro</td>\n",
              "      <td>brinquedos</td>\n",
              "      <td>279.51</td>\n",
              "      <td>21.262681</td>\n",
              "      <td>15/03/2021</td>\n",
              "      <td>João Souza</td>\n",
              "      <td>DF</td>\n",
              "      <td>1</td>\n",
              "      <td>cartao_credito</td>\n",
              "      <td>1</td>\n",
              "      <td>-15.83</td>\n",
              "      <td>-47.86</td>\n",
              "    </tr>\n",
              "    <tr>\n",
              "      <th>3</th>\n",
              "      <td>Micro-ondas</td>\n",
              "      <td>eletrodomesticos</td>\n",
              "      <td>1009.99</td>\n",
              "      <td>54.667344</td>\n",
              "      <td>03/05/2022</td>\n",
              "      <td>João Souza</td>\n",
              "      <td>RS</td>\n",
              "      <td>4</td>\n",
              "      <td>boleto</td>\n",
              "      <td>1</td>\n",
              "      <td>-30.17</td>\n",
              "      <td>-53.50</td>\n",
              "    </tr>\n",
              "    <tr>\n",
              "      <th>4</th>\n",
              "      <td>Cadeira de escritório</td>\n",
              "      <td>moveis</td>\n",
              "      <td>446.99</td>\n",
              "      <td>26.964689</td>\n",
              "      <td>07/11/2020</td>\n",
              "      <td>Larissa Alves</td>\n",
              "      <td>MG</td>\n",
              "      <td>5</td>\n",
              "      <td>boleto</td>\n",
              "      <td>1</td>\n",
              "      <td>-18.10</td>\n",
              "      <td>-44.38</td>\n",
              "    </tr>\n",
              "  </tbody>\n",
              "</table>\n",
              "</div>\n",
              "    <div class=\"colab-df-buttons\">\n",
              "\n",
              "  <div class=\"colab-df-container\">\n",
              "    <button class=\"colab-df-convert\" onclick=\"convertToInteractive('df-ceb8a85e-57b5-41f6-8e19-0209ff102fd8')\"\n",
              "            title=\"Convert this dataframe to an interactive table.\"\n",
              "            style=\"display:none;\">\n",
              "\n",
              "  <svg xmlns=\"http://www.w3.org/2000/svg\" height=\"24px\" viewBox=\"0 -960 960 960\">\n",
              "    <path d=\"M120-120v-720h720v720H120Zm60-500h600v-160H180v160Zm220 220h160v-160H400v160Zm0 220h160v-160H400v160ZM180-400h160v-160H180v160Zm440 0h160v-160H620v160ZM180-180h160v-160H180v160Zm440 0h160v-160H620v160Z\"/>\n",
              "  </svg>\n",
              "    </button>\n",
              "\n",
              "  <style>\n",
              "    .colab-df-container {\n",
              "      display:flex;\n",
              "      gap: 12px;\n",
              "    }\n",
              "\n",
              "    .colab-df-convert {\n",
              "      background-color: #E8F0FE;\n",
              "      border: none;\n",
              "      border-radius: 50%;\n",
              "      cursor: pointer;\n",
              "      display: none;\n",
              "      fill: #1967D2;\n",
              "      height: 32px;\n",
              "      padding: 0 0 0 0;\n",
              "      width: 32px;\n",
              "    }\n",
              "\n",
              "    .colab-df-convert:hover {\n",
              "      background-color: #E2EBFA;\n",
              "      box-shadow: 0px 1px 2px rgba(60, 64, 67, 0.3), 0px 1px 3px 1px rgba(60, 64, 67, 0.15);\n",
              "      fill: #174EA6;\n",
              "    }\n",
              "\n",
              "    .colab-df-buttons div {\n",
              "      margin-bottom: 4px;\n",
              "    }\n",
              "\n",
              "    [theme=dark] .colab-df-convert {\n",
              "      background-color: #3B4455;\n",
              "      fill: #D2E3FC;\n",
              "    }\n",
              "\n",
              "    [theme=dark] .colab-df-convert:hover {\n",
              "      background-color: #434B5C;\n",
              "      box-shadow: 0px 1px 3px 1px rgba(0, 0, 0, 0.15);\n",
              "      filter: drop-shadow(0px 1px 2px rgba(0, 0, 0, 0.3));\n",
              "      fill: #FFFFFF;\n",
              "    }\n",
              "  </style>\n",
              "\n",
              "    <script>\n",
              "      const buttonEl =\n",
              "        document.querySelector('#df-ceb8a85e-57b5-41f6-8e19-0209ff102fd8 button.colab-df-convert');\n",
              "      buttonEl.style.display =\n",
              "        google.colab.kernel.accessAllowed ? 'block' : 'none';\n",
              "\n",
              "      async function convertToInteractive(key) {\n",
              "        const element = document.querySelector('#df-ceb8a85e-57b5-41f6-8e19-0209ff102fd8');\n",
              "        const dataTable =\n",
              "          await google.colab.kernel.invokeFunction('convertToInteractive',\n",
              "                                                    [key], {});\n",
              "        if (!dataTable) return;\n",
              "\n",
              "        const docLinkHtml = 'Like what you see? Visit the ' +\n",
              "          '<a target=\"_blank\" href=https://colab.research.google.com/notebooks/data_table.ipynb>data table notebook</a>'\n",
              "          + ' to learn more about interactive tables.';\n",
              "        element.innerHTML = '';\n",
              "        dataTable['output_type'] = 'display_data';\n",
              "        await google.colab.output.renderOutput(dataTable, element);\n",
              "        const docLink = document.createElement('div');\n",
              "        docLink.innerHTML = docLinkHtml;\n",
              "        element.appendChild(docLink);\n",
              "      }\n",
              "    </script>\n",
              "  </div>\n",
              "\n",
              "\n",
              "    <div id=\"df-21781250-3431-445b-93ff-f7487d447f31\">\n",
              "      <button class=\"colab-df-quickchart\" onclick=\"quickchart('df-21781250-3431-445b-93ff-f7487d447f31')\"\n",
              "                title=\"Suggest charts\"\n",
              "                style=\"display:none;\">\n",
              "\n",
              "<svg xmlns=\"http://www.w3.org/2000/svg\" height=\"24px\"viewBox=\"0 0 24 24\"\n",
              "     width=\"24px\">\n",
              "    <g>\n",
              "        <path d=\"M19 3H5c-1.1 0-2 .9-2 2v14c0 1.1.9 2 2 2h14c1.1 0 2-.9 2-2V5c0-1.1-.9-2-2-2zM9 17H7v-7h2v7zm4 0h-2V7h2v10zm4 0h-2v-4h2v4z\"/>\n",
              "    </g>\n",
              "</svg>\n",
              "      </button>\n",
              "\n",
              "<style>\n",
              "  .colab-df-quickchart {\n",
              "      --bg-color: #E8F0FE;\n",
              "      --fill-color: #1967D2;\n",
              "      --hover-bg-color: #E2EBFA;\n",
              "      --hover-fill-color: #174EA6;\n",
              "      --disabled-fill-color: #AAA;\n",
              "      --disabled-bg-color: #DDD;\n",
              "  }\n",
              "\n",
              "  [theme=dark] .colab-df-quickchart {\n",
              "      --bg-color: #3B4455;\n",
              "      --fill-color: #D2E3FC;\n",
              "      --hover-bg-color: #434B5C;\n",
              "      --hover-fill-color: #FFFFFF;\n",
              "      --disabled-bg-color: #3B4455;\n",
              "      --disabled-fill-color: #666;\n",
              "  }\n",
              "\n",
              "  .colab-df-quickchart {\n",
              "    background-color: var(--bg-color);\n",
              "    border: none;\n",
              "    border-radius: 50%;\n",
              "    cursor: pointer;\n",
              "    display: none;\n",
              "    fill: var(--fill-color);\n",
              "    height: 32px;\n",
              "    padding: 0;\n",
              "    width: 32px;\n",
              "  }\n",
              "\n",
              "  .colab-df-quickchart:hover {\n",
              "    background-color: var(--hover-bg-color);\n",
              "    box-shadow: 0 1px 2px rgba(60, 64, 67, 0.3), 0 1px 3px 1px rgba(60, 64, 67, 0.15);\n",
              "    fill: var(--button-hover-fill-color);\n",
              "  }\n",
              "\n",
              "  .colab-df-quickchart-complete:disabled,\n",
              "  .colab-df-quickchart-complete:disabled:hover {\n",
              "    background-color: var(--disabled-bg-color);\n",
              "    fill: var(--disabled-fill-color);\n",
              "    box-shadow: none;\n",
              "  }\n",
              "\n",
              "  .colab-df-spinner {\n",
              "    border: 2px solid var(--fill-color);\n",
              "    border-color: transparent;\n",
              "    border-bottom-color: var(--fill-color);\n",
              "    animation:\n",
              "      spin 1s steps(1) infinite;\n",
              "  }\n",
              "\n",
              "  @keyframes spin {\n",
              "    0% {\n",
              "      border-color: transparent;\n",
              "      border-bottom-color: var(--fill-color);\n",
              "      border-left-color: var(--fill-color);\n",
              "    }\n",
              "    20% {\n",
              "      border-color: transparent;\n",
              "      border-left-color: var(--fill-color);\n",
              "      border-top-color: var(--fill-color);\n",
              "    }\n",
              "    30% {\n",
              "      border-color: transparent;\n",
              "      border-left-color: var(--fill-color);\n",
              "      border-top-color: var(--fill-color);\n",
              "      border-right-color: var(--fill-color);\n",
              "    }\n",
              "    40% {\n",
              "      border-color: transparent;\n",
              "      border-right-color: var(--fill-color);\n",
              "      border-top-color: var(--fill-color);\n",
              "    }\n",
              "    60% {\n",
              "      border-color: transparent;\n",
              "      border-right-color: var(--fill-color);\n",
              "    }\n",
              "    80% {\n",
              "      border-color: transparent;\n",
              "      border-right-color: var(--fill-color);\n",
              "      border-bottom-color: var(--fill-color);\n",
              "    }\n",
              "    90% {\n",
              "      border-color: transparent;\n",
              "      border-bottom-color: var(--fill-color);\n",
              "    }\n",
              "  }\n",
              "</style>\n",
              "\n",
              "      <script>\n",
              "        async function quickchart(key) {\n",
              "          const quickchartButtonEl =\n",
              "            document.querySelector('#' + key + ' button');\n",
              "          quickchartButtonEl.disabled = true;  // To prevent multiple clicks.\n",
              "          quickchartButtonEl.classList.add('colab-df-spinner');\n",
              "          try {\n",
              "            const charts = await google.colab.kernel.invokeFunction(\n",
              "                'suggestCharts', [key], {});\n",
              "          } catch (error) {\n",
              "            console.error('Error during call to suggestCharts:', error);\n",
              "          }\n",
              "          quickchartButtonEl.classList.remove('colab-df-spinner');\n",
              "          quickchartButtonEl.classList.add('colab-df-quickchart-complete');\n",
              "        }\n",
              "        (() => {\n",
              "          let quickchartButtonEl =\n",
              "            document.querySelector('#df-21781250-3431-445b-93ff-f7487d447f31 button');\n",
              "          quickchartButtonEl.style.display =\n",
              "            google.colab.kernel.accessAllowed ? 'block' : 'none';\n",
              "        })();\n",
              "      </script>\n",
              "    </div>\n",
              "\n",
              "    </div>\n",
              "  </div>\n"
            ],
            "application/vnd.google.colaboratory.intrinsic+json": {
              "type": "dataframe",
              "variable_name": "loja",
              "summary": "{\n  \"name\": \"loja\",\n  \"rows\": 2359,\n  \"fields\": [\n    {\n      \"column\": \"Produto\",\n      \"properties\": {\n        \"dtype\": \"category\",\n        \"num_unique_values\": 51,\n        \"samples\": [\n          \"Viol\\u00e3o\",\n          \"Bola de basquete\",\n          \"Smartwatch\"\n        ],\n        \"semantic_type\": \"\",\n        \"description\": \"\"\n      }\n    },\n    {\n      \"column\": \"Categoria do Produto\",\n      \"properties\": {\n        \"dtype\": \"category\",\n        \"num_unique_values\": 8,\n        \"samples\": [\n          \"moveis\",\n          \"esporte e lazer\",\n          \"eletronicos\"\n        ],\n        \"semantic_type\": \"\",\n        \"description\": \"\"\n      }\n    },\n    {\n      \"column\": \"Pre\\u00e7o\",\n      \"properties\": {\n        \"dtype\": \"number\",\n        \"std\": 819.5827782539145,\n        \"min\": 10.07,\n        \"max\": 3969.38,\n        \"num_unique_values\": 2315,\n        \"samples\": [\n          446.11,\n          107.31,\n          65.86\n        ],\n        \"semantic_type\": \"\",\n        \"description\": \"\"\n      }\n    },\n    {\n      \"column\": \"Frete\",\n      \"properties\": {\n        \"dtype\": \"number\",\n        \"std\": 43.814183327408166,\n        \"min\": 0.0,\n        \"max\": 214.3770604781,\n        \"num_unique_values\": 2149,\n        \"samples\": [\n          83.815279607,\n          16.069664669,\n          14.0344876928\n        ],\n        \"semantic_type\": \"\",\n        \"description\": \"\"\n      }\n    },\n    {\n      \"column\": \"Data da Compra\",\n      \"properties\": {\n        \"dtype\": \"object\",\n        \"num_unique_values\": 1018,\n        \"samples\": [\n          \"15/09/2022\",\n          \"03/06/2020\",\n          \"06/11/2021\"\n        ],\n        \"semantic_type\": \"\",\n        \"description\": \"\"\n      }\n    },\n    {\n      \"column\": \"Vendedor\",\n      \"properties\": {\n        \"dtype\": \"category\",\n        \"num_unique_values\": 14,\n        \"samples\": [\n          \"Juliana Costa\",\n          \"Mariana Ferreira\",\n          \"Pedro Gomes\"\n        ],\n        \"semantic_type\": \"\",\n        \"description\": \"\"\n      }\n    },\n    {\n      \"column\": \"Local da compra\",\n      \"properties\": {\n        \"dtype\": \"category\",\n        \"num_unique_values\": 26,\n        \"samples\": [\n          \"TO\",\n          \"RN\",\n          \"SP\"\n        ],\n        \"semantic_type\": \"\",\n        \"description\": \"\"\n      }\n    },\n    {\n      \"column\": \"Avalia\\u00e7\\u00e3o da compra\",\n      \"properties\": {\n        \"dtype\": \"number\",\n        \"std\": 1,\n        \"min\": 1,\n        \"max\": 5,\n        \"num_unique_values\": 5,\n        \"samples\": [\n          1,\n          2,\n          5\n        ],\n        \"semantic_type\": \"\",\n        \"description\": \"\"\n      }\n    },\n    {\n      \"column\": \"Tipo de pagamento\",\n      \"properties\": {\n        \"dtype\": \"category\",\n        \"num_unique_values\": 4,\n        \"samples\": [\n          \"boleto\",\n          \"cartao_debito\",\n          \"cartao_credito\"\n        ],\n        \"semantic_type\": \"\",\n        \"description\": \"\"\n      }\n    },\n    {\n      \"column\": \"Quantidade de parcelas\",\n      \"properties\": {\n        \"dtype\": \"number\",\n        \"std\": 2,\n        \"min\": 1,\n        \"max\": 24,\n        \"num_unique_values\": 15,\n        \"samples\": [\n          7,\n          14,\n          8\n        ],\n        \"semantic_type\": \"\",\n        \"description\": \"\"\n      }\n    },\n    {\n      \"column\": \"lat\",\n      \"properties\": {\n        \"dtype\": \"number\",\n        \"std\": 5.372399916530833,\n        \"min\": -30.17,\n        \"max\": 1.41,\n        \"num_unique_values\": 26,\n        \"samples\": [\n          -9.46,\n          -5.81,\n          -22.19\n        ],\n        \"semantic_type\": \"\",\n        \"description\": \"\"\n      }\n    },\n    {\n      \"column\": \"lon\",\n      \"properties\": {\n        \"dtype\": \"number\",\n        \"std\": 4.183180020544179,\n        \"min\": -70.55,\n        \"max\": -36.59,\n        \"num_unique_values\": 26,\n        \"samples\": [\n          -48.26,\n          -36.59,\n          -48.79\n        ],\n        \"semantic_type\": \"\",\n        \"description\": \"\"\n      }\n    }\n  ]\n}"
            }
          },
          "metadata": {},
          "execution_count": 7
        }
      ],
      "source": [
        "import pandas as pd\n",
        "import matplotlib.pyplot as plt\n",
        "\n",
        "url = \"https://raw.githubusercontent.com/alura-es-cursos/challenge1-data-science/refs/heads/main/base-de-dados-challenge-1/loja_1.csv\"\n",
        "url2 = \"https://raw.githubusercontent.com/alura-es-cursos/challenge1-data-science/refs/heads/main/base-de-dados-challenge-1/loja_2.csv\"\n",
        "url3 = \"https://raw.githubusercontent.com/alura-es-cursos/challenge1-data-science/refs/heads/main/base-de-dados-challenge-1/loja_3.csv\"\n",
        "url4 = \"https://raw.githubusercontent.com/alura-es-cursos/challenge1-data-science/refs/heads/main/base-de-dados-challenge-1/loja_4.csv\"\n",
        "\n",
        "loja = pd.read_csv(url)\n",
        "loja2 = pd.read_csv(url2)\n",
        "loja3 = pd.read_csv(url3)\n",
        "loja4 = pd.read_csv(url4)\n",
        "\n",
        "loja.head()"
      ]
    },
    {
      "cell_type": "markdown",
      "source": [
        "#1. Análise do faturamento\n"
      ],
      "metadata": {
        "id": "X62IW3KFUIYm"
      }
    },
    {
      "cell_type": "code",
      "source": [
        "loja.columns\n",
        "loja['Preço'].sum()\n",
        "loja2['Preço'].sum()\n",
        "loja3['Preço'].sum()\n",
        "loja4['Preço'].sum()"
      ],
      "metadata": {
        "id": "xykobSftV64I",
        "colab": {
          "base_uri": "https://localhost:8080/"
        },
        "outputId": "2167190b-5214-435f-f168-a51516eb0132"
      },
      "execution_count": 8,
      "outputs": [
        {
          "output_type": "execute_result",
          "data": {
            "text/plain": [
              "np.float64(1384497.58)"
            ]
          },
          "metadata": {},
          "execution_count": 8
        }
      ]
    },
    {
      "cell_type": "code",
      "source": [
        "faturamento_loja1 = loja['Preço'].sum()\n",
        "faturamento_loja2 = loja2['Preço'].sum()\n",
        "faturamento_loja3 = loja3['Preço'].sum()\n",
        "faturamento_loja4 = loja4['Preço'].sum()\n",
        "\n",
        "print('Faturamento Loja 1:', faturamento_loja1)\n",
        "print('Faturamento Loja 2:', faturamento_loja2)\n",
        "print('Faturamento Loja 3:', faturamento_loja3)\n",
        "print('Faturamento Loja 4:', faturamento_loja4)"
      ],
      "metadata": {
        "id": "KDyr8E71V3m-",
        "colab": {
          "base_uri": "https://localhost:8080/"
        },
        "outputId": "f70bff14-ded7-426a-f814-11269039b3cf"
      },
      "execution_count": 9,
      "outputs": [
        {
          "output_type": "stream",
          "name": "stdout",
          "text": [
            "Faturamento Loja 1: 1534509.12\n",
            "Faturamento Loja 2: 1488459.06\n",
            "Faturamento Loja 3: 1464025.03\n",
            "Faturamento Loja 4: 1384497.58\n"
          ]
        }
      ]
    },
    {
      "cell_type": "code",
      "source": [
        "faturamentos = [faturamento_loja1, faturamento_loja2, faturamento_loja3, faturamento_loja4]\n",
        "print(faturamentos)"
      ],
      "metadata": {
        "colab": {
          "base_uri": "https://localhost:8080/"
        },
        "id": "Rr8gftViMfjP",
        "outputId": "b44f6ee7-4fc5-435b-9ab5-fcb70af509d7"
      },
      "execution_count": 10,
      "outputs": [
        {
          "output_type": "stream",
          "name": "stdout",
          "text": [
            "[np.float64(1534509.12), np.float64(1488459.06), np.float64(1464025.03), np.float64(1384497.58)]\n"
          ]
        }
      ]
    },
    {
      "cell_type": "markdown",
      "source": [
        "# 2. Vendas por Categoria\n"
      ],
      "metadata": {
        "id": "2V_vcAPzWZmR"
      }
    },
    {
      "cell_type": "code",
      "source": [
        "todas_categorias_loja1 = list(loja['Categoria do Produto'])\n",
        "categorias_unicas_loja1 = list(set(todas_categorias_loja1))\n",
        "for categoria in categorias_unicas_loja1:\n",
        "    quantidade = todas_categorias_loja1.count(categoria)\n",
        "    print(f'Loja 1 - Categoria: {categoria} - Quantidade vendida: {quantidade}')"
      ],
      "metadata": {
        "id": "A34YupIuYhfF",
        "colab": {
          "base_uri": "https://localhost:8080/"
        },
        "outputId": "7aa2062b-ba51-4fac-bfeb-703c41366f6e"
      },
      "execution_count": 11,
      "outputs": [
        {
          "output_type": "stream",
          "name": "stdout",
          "text": [
            "Loja 1 - Categoria: instrumentos musicais - Quantidade vendida: 182\n",
            "Loja 1 - Categoria: livros - Quantidade vendida: 173\n",
            "Loja 1 - Categoria: brinquedos - Quantidade vendida: 324\n",
            "Loja 1 - Categoria: moveis - Quantidade vendida: 465\n",
            "Loja 1 - Categoria: eletrodomesticos - Quantidade vendida: 312\n",
            "Loja 1 - Categoria: esporte e lazer - Quantidade vendida: 284\n",
            "Loja 1 - Categoria: utilidades domesticas - Quantidade vendida: 171\n",
            "Loja 1 - Categoria: eletronicos - Quantidade vendida: 448\n"
          ]
        }
      ]
    },
    {
      "cell_type": "code",
      "source": [
        "todas_categorias_loja2 = list(loja2['Categoria do Produto'])\n",
        "categorias_unicas_loja2 = list(set(todas_categorias_loja2))\n",
        "for categoria in categorias_unicas_loja2:\n",
        "    quantidade = todas_categorias_loja2.count(categoria)\n",
        "    print(f'Loja 2 - Categoria: {categoria} - Quantidade vendida: {quantidade}')"
      ],
      "metadata": {
        "id": "yZR6cOjXYSk1",
        "colab": {
          "base_uri": "https://localhost:8080/"
        },
        "outputId": "5c40fc3e-5386-4034-aa42-0224b8b0235c"
      },
      "execution_count": 12,
      "outputs": [
        {
          "output_type": "stream",
          "name": "stdout",
          "text": [
            "Loja 2 - Categoria: instrumentos musicais - Quantidade vendida: 224\n",
            "Loja 2 - Categoria: livros - Quantidade vendida: 197\n",
            "Loja 2 - Categoria: brinquedos - Quantidade vendida: 313\n",
            "Loja 2 - Categoria: moveis - Quantidade vendida: 442\n",
            "Loja 2 - Categoria: eletrodomesticos - Quantidade vendida: 305\n",
            "Loja 2 - Categoria: esporte e lazer - Quantidade vendida: 275\n",
            "Loja 2 - Categoria: utilidades domesticas - Quantidade vendida: 181\n",
            "Loja 2 - Categoria: eletronicos - Quantidade vendida: 422\n"
          ]
        }
      ]
    },
    {
      "cell_type": "code",
      "source": [
        "todas_categorias_loja3 = list(loja3['Categoria do Produto'])\n",
        "categorias_unicas_loja3 = list(set(todas_categorias_loja3))\n",
        "for categoria in categorias_unicas_loja3:\n",
        "    quantidade = todas_categorias_loja3.count(categoria)\n",
        "    print(f'Loja 3 - Categoria: {categoria} - Quantidade vendida: {quantidade}')"
      ],
      "metadata": {
        "colab": {
          "base_uri": "https://localhost:8080/"
        },
        "id": "-oP8FdGiWQEq",
        "outputId": "d72d0aad-6436-431a-ac81-9cdc782600e5"
      },
      "execution_count": 13,
      "outputs": [
        {
          "output_type": "stream",
          "name": "stdout",
          "text": [
            "Loja 3 - Categoria: instrumentos musicais - Quantidade vendida: 177\n",
            "Loja 3 - Categoria: livros - Quantidade vendida: 185\n",
            "Loja 3 - Categoria: eletrodomesticos - Quantidade vendida: 278\n",
            "Loja 3 - Categoria: moveis - Quantidade vendida: 499\n",
            "Loja 3 - Categoria: brinquedos - Quantidade vendida: 315\n",
            "Loja 3 - Categoria: esporte e lazer - Quantidade vendida: 277\n",
            "Loja 3 - Categoria: utilidades domesticas - Quantidade vendida: 177\n",
            "Loja 3 - Categoria: eletronicos - Quantidade vendida: 451\n"
          ]
        }
      ]
    },
    {
      "cell_type": "code",
      "source": [
        "todas_categorias_loja4 = list(loja4['Categoria do Produto'])\n",
        "categorias_unicas_loja4 = list(set(todas_categorias_loja4))\n",
        "for categoria in categorias_unicas_loja4:\n",
        "    quantidade = todas_categorias_loja4.count(categoria)\n",
        "    print(f'Loja 4 - Categoria: {categoria} - Quantidade vendida: {quantidade}')"
      ],
      "metadata": {
        "colab": {
          "base_uri": "https://localhost:8080/"
        },
        "id": "wF45GvJaWQlZ",
        "outputId": "63d718e7-66bd-4c5d-a141-efe13f9eafd4"
      },
      "execution_count": 14,
      "outputs": [
        {
          "output_type": "stream",
          "name": "stdout",
          "text": [
            "Loja 4 - Categoria: instrumentos musicais - Quantidade vendida: 170\n",
            "Loja 4 - Categoria: livros - Quantidade vendida: 187\n",
            "Loja 4 - Categoria: eletrodomesticos - Quantidade vendida: 254\n",
            "Loja 4 - Categoria: moveis - Quantidade vendida: 480\n",
            "Loja 4 - Categoria: brinquedos - Quantidade vendida: 338\n",
            "Loja 4 - Categoria: esporte e lazer - Quantidade vendida: 277\n",
            "Loja 4 - Categoria: utilidades domesticas - Quantidade vendida: 201\n",
            "Loja 4 - Categoria: eletronicos - Quantidade vendida: 451\n"
          ]
        }
      ]
    },
    {
      "cell_type": "markdown",
      "source": [
        "# 3. Média de Avaliação das Lojas"
      ],
      "metadata": {
        "id": "Rq6tU_xSY3jk"
      }
    },
    {
      "cell_type": "code",
      "source": [
        "avaliacoes_loja1 = list(loja['Avaliação da compra'])\n",
        "media_avaliacoes_loja1 = sum(avaliacoes_loja1)/len(avaliacoes_loja1)\n",
        "print('Média de Avaliações - Loja 1:', media_avaliacoes_loja1)"
      ],
      "metadata": {
        "id": "bh3jjjJwY5MU",
        "colab": {
          "base_uri": "https://localhost:8080/"
        },
        "outputId": "62f1888c-0676-4b86-bc1d-96bdc2c60c5d"
      },
      "execution_count": 15,
      "outputs": [
        {
          "output_type": "stream",
          "name": "stdout",
          "text": [
            "Média de Avaliações - Loja 1: 3.976685036032217\n"
          ]
        }
      ]
    },
    {
      "cell_type": "code",
      "source": [
        "avaliacoes_loja2 = list(loja2['Avaliação da compra'])\n",
        "media_avaliacoes_loja2 = sum(avaliacoes_loja2)/len(avaliacoes_loja2)\n",
        "print('Média de Avaliações - Loja 2:', media_avaliacoes_loja2)"
      ],
      "metadata": {
        "id": "I0KkjPoTY88F",
        "colab": {
          "base_uri": "https://localhost:8080/"
        },
        "outputId": "8dc7e085-dabc-42e2-f62c-38bb5030cce2"
      },
      "execution_count": 16,
      "outputs": [
        {
          "output_type": "stream",
          "name": "stdout",
          "text": [
            "Média de Avaliações - Loja 2: 4.037303942348453\n"
          ]
        }
      ]
    },
    {
      "cell_type": "code",
      "source": [
        "avaliacoes_loja3 = list(loja3['Avaliação da compra'])\n",
        "media_avaliacoes_loja3 = sum(avaliacoes_loja3)/len(avaliacoes_loja3)\n",
        "print('Média de Avaliações - Loja 3:', media_avaliacoes_loja3)"
      ],
      "metadata": {
        "colab": {
          "base_uri": "https://localhost:8080/"
        },
        "id": "VmKLaHFvjTAD",
        "outputId": "fe463bd7-0795-4401-d33d-f5a211e01f2e"
      },
      "execution_count": 17,
      "outputs": [
        {
          "output_type": "stream",
          "name": "stdout",
          "text": [
            "Média de Avaliações - Loja 3: 4.048325561678677\n"
          ]
        }
      ]
    },
    {
      "cell_type": "code",
      "source": [
        "avaliacoes_loja4 = list(loja4['Avaliação da compra'])\n",
        "media_avaliacoes_loja4 = sum(avaliacoes_loja4)/len(avaliacoes_loja4)\n",
        "print('Média de Avaliações - Loja 4:', media_avaliacoes_loja4)"
      ],
      "metadata": {
        "colab": {
          "base_uri": "https://localhost:8080/"
        },
        "id": "ZHk7W61IjSrK",
        "outputId": "b728191b-4528-4726-d11b-e4c30caebf0b"
      },
      "execution_count": 18,
      "outputs": [
        {
          "output_type": "stream",
          "name": "stdout",
          "text": [
            "Média de Avaliações - Loja 4: 3.9957591178965224\n"
          ]
        }
      ]
    },
    {
      "cell_type": "markdown",
      "source": [
        "# 4. Produtos Mais e Menos Vendidos"
      ],
      "metadata": {
        "id": "DmNp1KPBZCm-"
      }
    },
    {
      "cell_type": "code",
      "source": [
        "todos_produtos_loja1 = list(loja['Produto'])\n",
        "produtos_unicos_loja1 = list(set(todos_produtos_loja1))\n",
        "vendas_por_produto_loja1 = []\n",
        "for produto in produtos_unicos_loja1:\n",
        "    quantidade = todos_produtos_loja1.count(produto)\n",
        "    vendas_por_produto_loja1.append((produto, quantidade))\n",
        "mais_vendido_loja1 = max(vendas_por_produto_loja1, key=lambda x: x[1])\n",
        "menos_vendido_loja1 = min(vendas_por_produto_loja1, key=lambda x: x[1])\n",
        "print('Loja 1 - Produto mais vendido:', mais_vendido_loja1[0], '- Quantidade:', mais_vendido_loja1[1])\n",
        "print('Loja 1 - Produto menos vendido:', menos_vendido_loja1[0], '- Quantidade:', menos_vendido_loja1[1])"
      ],
      "metadata": {
        "id": "qoyjqijQZHfF",
        "colab": {
          "base_uri": "https://localhost:8080/"
        },
        "outputId": "21055f30-8403-465b-b410-754f8695c662"
      },
      "execution_count": 19,
      "outputs": [
        {
          "output_type": "stream",
          "name": "stdout",
          "text": [
            "Loja 1 - Produto mais vendido: Micro-ondas - Quantidade: 60\n",
            "Loja 1 - Produto menos vendido: Headset - Quantidade: 33\n"
          ]
        }
      ]
    },
    {
      "cell_type": "code",
      "source": [
        "todos_produtos_loja2 = list(loja2['Produto'])\n",
        "produtos_unicos_loja2 = list(set(todos_produtos_loja2))\n",
        "vendas_por_produto_loja2 = []\n",
        "for produto in produtos_unicos_loja2:\n",
        "    quantidade = todos_produtos_loja2.count(produto)\n",
        "    vendas_por_produto_loja2.append((produto, quantidade))\n",
        "mais_vendido_loja2 = max(vendas_por_produto_loja2, key=lambda x: x[1])\n",
        "menos_vendido_loja2 = min(vendas_por_produto_loja2, key=lambda x: x[1])\n",
        "print('Loja 2 - Produto mais vendido:', mais_vendido_loja2[0], '- Quantidade:', mais_vendido_loja2[1])\n",
        "print('Loja 2 - Produto menos vendido:', menos_vendido_loja2[0], '- Quantidade:', menos_vendido_loja2[1])"
      ],
      "metadata": {
        "id": "0Sw3sd4IZIGW",
        "colab": {
          "base_uri": "https://localhost:8080/"
        },
        "outputId": "54058c92-c508-4ec9-d4c6-164822c80961"
      },
      "execution_count": 20,
      "outputs": [
        {
          "output_type": "stream",
          "name": "stdout",
          "text": [
            "Loja 2 - Produto mais vendido: Iniciando em programação - Quantidade: 65\n",
            "Loja 2 - Produto menos vendido: Jogo de tabuleiro - Quantidade: 32\n"
          ]
        }
      ]
    },
    {
      "cell_type": "code",
      "source": [
        "todos_produtos_loja3 = list(loja3['Produto'])\n",
        "produtos_unicos_loja3 = list(set(todos_produtos_loja3))\n",
        "vendas_por_produto_loja3 = []\n",
        "for produto in produtos_unicos_loja3:\n",
        "    quantidade = todos_produtos_loja3.count(produto)\n",
        "    vendas_por_produto_loja3.append((produto, quantidade))\n",
        "mais_vendido_loja3 = max(vendas_por_produto_loja3, key=lambda x: x[1])\n",
        "menos_vendido_loja3 = min(vendas_por_produto_loja3, key=lambda x: x[1])\n",
        "print('Loja 3 - Produto mais vendido:', mais_vendido_loja3[0], '- Quantidade:', mais_vendido_loja3[1])\n",
        "print('Loja 3 - Produto menos vendido:', menos_vendido_loja3[0], '- Quantidade:', menos_vendido_loja3[1])"
      ],
      "metadata": {
        "colab": {
          "base_uri": "https://localhost:8080/"
        },
        "id": "eXOLdcTSmWxg",
        "outputId": "c123a01b-e92a-408d-c1db-ab80c2b03643"
      },
      "execution_count": 21,
      "outputs": [
        {
          "output_type": "stream",
          "name": "stdout",
          "text": [
            "Loja 3 - Produto mais vendido: Kit banquetas - Quantidade: 57\n",
            "Loja 3 - Produto menos vendido: Blocos de montar - Quantidade: 35\n"
          ]
        }
      ]
    },
    {
      "cell_type": "code",
      "source": [
        "todos_produtos_loja4 = list(loja4['Produto'])\n",
        "produtos_unicos_loja4 = list(set(todos_produtos_loja4))\n",
        "vendas_por_produto_loja4 = []\n",
        "for produto in produtos_unicos_loja4:\n",
        "    quantidade = todos_produtos_loja4.count(produto)\n",
        "    vendas_por_produto_loja4.append((produto, quantidade))\n",
        "mais_vendido_loja4 = max(vendas_por_produto_loja4, key=lambda x: x[1])\n",
        "menos_vendido_loja4 = min(vendas_por_produto_loja4, key=lambda x: x[1])\n",
        "print('Loja 4 - Produto mais vendido:', mais_vendido_loja4[0], '- Quantidade:', mais_vendido_loja4[1])\n",
        "print('Loja 4 - Produto menos vendido:', menos_vendido_loja4[0], '- Quantidade:', menos_vendido_loja4[1])"
      ],
      "metadata": {
        "colab": {
          "base_uri": "https://localhost:8080/"
        },
        "id": "VOJsYLIPmWhp",
        "outputId": "106ae703-a35d-47c2-ff84-eff5a3b5ce80"
      },
      "execution_count": 22,
      "outputs": [
        {
          "output_type": "stream",
          "name": "stdout",
          "text": [
            "Loja 4 - Produto mais vendido: Cama box - Quantidade: 62\n",
            "Loja 4 - Produto menos vendido: Guitarra - Quantidade: 33\n"
          ]
        }
      ]
    },
    {
      "cell_type": "markdown",
      "source": [
        "# 5. Frete Médio por Loja\n"
      ],
      "metadata": {
        "id": "Fl0cGi3bZKqU"
      }
    },
    {
      "cell_type": "code",
      "source": [
        "fretes_loja1 = list(loja['Frete'])\n",
        "media_fretes_loja1 = sum(fretes_loja1)/len(fretes_loja1)\n",
        "print('Custo médio de frete - Loja 1:', media_fretes_loja1)"
      ],
      "metadata": {
        "id": "S2JeaCykZNy9",
        "colab": {
          "base_uri": "https://localhost:8080/"
        },
        "outputId": "87e15698-c180-4b9c-c622-a2f289cf0b80"
      },
      "execution_count": 23,
      "outputs": [
        {
          "output_type": "stream",
          "name": "stdout",
          "text": [
            "Custo médio de frete - Loja 1: 34.6918049155114\n"
          ]
        }
      ]
    },
    {
      "cell_type": "code",
      "source": [
        "fretes_loja2 = list(loja2['Frete'])\n",
        "media_fretes_loja2 = sum(fretes_loja2)/len(fretes_loja2)\n",
        "print('Custo médio de frete - Loja 2:', media_fretes_loja2)"
      ],
      "metadata": {
        "id": "0tSdCie9ZQlt",
        "colab": {
          "base_uri": "https://localhost:8080/"
        },
        "outputId": "23e31193-dd00-4900-b592-e9863b0a5031"
      },
      "execution_count": 24,
      "outputs": [
        {
          "output_type": "stream",
          "name": "stdout",
          "text": [
            "Custo médio de frete - Loja 2: 33.62194065817933\n"
          ]
        }
      ]
    },
    {
      "cell_type": "code",
      "source": [
        "fretes_loja3 = list(loja3['Frete'])\n",
        "media_fretes_loja3 = sum(fretes_loja3)/len(fretes_loja3)\n",
        "print('Custo médio de frete - Loja 3:', media_fretes_loja3)"
      ],
      "metadata": {
        "colab": {
          "base_uri": "https://localhost:8080/"
        },
        "id": "QE9VPYLcnN8F",
        "outputId": "262c464c-5793-4658-d76b-03a9cbf1ebc5"
      },
      "execution_count": 25,
      "outputs": [
        {
          "output_type": "stream",
          "name": "stdout",
          "text": [
            "Custo médio de frete - Loja 3: 33.074464274117446\n"
          ]
        }
      ]
    },
    {
      "cell_type": "code",
      "source": [
        "fretes_loja4 = list(loja4['Frete'])\n",
        "media_fretes_loja4 = sum(fretes_loja4)/len(fretes_loja4)\n",
        "print('Custo médio de frete - Loja 4:', media_fretes_loja4)"
      ],
      "metadata": {
        "colab": {
          "base_uri": "https://localhost:8080/"
        },
        "id": "4d5okIDhnN1J",
        "outputId": "e2130bc2-1538-4b12-e2d6-e208e16e3662"
      },
      "execution_count": 26,
      "outputs": [
        {
          "output_type": "stream",
          "name": "stdout",
          "text": [
            "Custo médio de frete - Loja 4: 31.27899708184175\n"
          ]
        }
      ]
    },
    {
      "cell_type": "markdown",
      "source": [
        "## Relatório"
      ],
      "metadata": {
        "id": "GtG4Bgy6EWwM"
      }
    },
    {
      "cell_type": "code",
      "source": [
        "lojas = ['Loja 1', 'Loja 2', 'Loja 3', 'Loja 4']\n",
        "\n",
        "faturamentos = [loja['Preço'].sum(), loja2['Preço'].sum(), loja3['Preço'].sum(), loja4['Preço'].sum()]\n",
        "medias_frete = [media_fretes_loja1, media_fretes_loja2, media_fretes_loja3, media_fretes_loja4]\n",
        "medias_avaliacao = [media_avaliacoes_loja1, media_avaliacoes_loja2, media_avaliacoes_loja3, media_avaliacoes_loja4]"
      ],
      "metadata": {
        "id": "pZ9S_1zhEWhl"
      },
      "execution_count": 32,
      "outputs": []
    },
    {
      "cell_type": "code",
      "source": [
        "plt.figure(figsize=(8,5))\n",
        "plt.bar(lojas, faturamentos, color='green')\n",
        "plt.title('Faturamento Total por Loja')\n",
        "plt.xlabel('Loja')\n",
        "plt.ylabel('Faturamento (R$)')\n",
        "plt.show()"
      ],
      "metadata": {
        "colab": {
          "base_uri": "https://localhost:8080/",
          "height": 487
        },
        "id": "5ig6w0_NPROL",
        "outputId": "5e6370a1-1886-4a53-8fea-d1c8c2b68f9b"
      },
      "execution_count": 33,
      "outputs": [
        {
          "output_type": "display_data",
          "data": {
            "text/plain": [
              "<Figure size 800x500 with 1 Axes>"
            ],
            "image/png": "[encoded data removed]"
          },
          "metadata": {}
        }
      ]
    },
    {
      "cell_type": "code",
      "source": [
        "plt.figure(figsize=(8,5))\n",
        "plt.plot(lojas, medias_frete, marker='o', color='orange')\n",
        "plt.title('Custo Médio de Frete por Loja')\n",
        "plt.xlabel('Loja')\n",
        "plt.ylabel('Frete Médio (R$)')\n",
        "plt.show()"
      ],
      "metadata": {
        "colab": {
          "base_uri": "https://localhost:8080/",
          "height": 488
        },
        "id": "IuCk3HNhPXNG",
        "outputId": "efc73c49-224d-4847-9632-a75e6d2324cb"
      },
      "execution_count": 34,
      "outputs": [
        {
          "output_type": "display_data",
          "data": {
            "text/plain": [
              "<Figure size 800x500 with 1 Axes>"
            ],
            "image/png": "[encoded data removed]"
          },
          "metadata": {}
        }
      ]
    },
    {
      "cell_type": "code",
      "source": [
        "plt.figure(figsize=(8,5))\n",
        "plt.scatter(lojas, medias_avaliacao, color='blue')\n",
        "plt.title('Avaliação Média dos Clientes por Loja')\n",
        "plt.xlabel('Loja')\n",
        "plt.ylabel('Avaliação Média')\n",
        "plt.show()"
      ],
      "metadata": {
        "colab": {
          "base_uri": "https://localhost:8080/",
          "height": 488
        },
        "id": "Iz5iaLGmPXA5",
        "outputId": "78131bda-da5c-4aa4-fbad-c095ceea3b9b"
      },
      "execution_count": 35,
      "outputs": [
        {
          "output_type": "display_data",
          "data": {
            "text/plain": [
              "<Figure size 800x500 with 1 Axes>"
            ],
            "image/png": "[encoded data removed]"
          },
          "metadata": {}
        }
      ]
    },
    {
      "cell_type": "markdown",
      "source": [
        "Apesar de ter o frete mais barato, com valor médio de 31,28 reais, a Loja 4 apresenta o pior resultado em faturamento, cerca de 1,38 milhão de reais, bem abaixo da Loja 1, que alcança aproximadamente 1,53 milhão de reais. Essa diferença expressiva mostra que a Loja 4 converte menos vendas em receita, o que pode impactar o lucro do negócio.\n",
        "\n",
        "Além disso, a avaliação média da Loja 4 é de aproximadamente 4,00, levemente abaixo das demais, que ficam acima desse valor, com destaque para a Loja 3, que apresenta uma média de 4,05, e a Loja 2, com 4,04. Isso indica uma menor consistência na satisfação dos clientes, ainda que as diferenças não sejam enormes.\n",
        "\n",
        "No quesito custo de frete, é verdade que a Loja 4 se mostra mais eficiente, com o menor valor entre todas as lojas, enquanto a Loja 1 tem o custo médio mais alto, chegando a 34,69 reais. Porém, mesmo com esse custo adicional, a Loja 1 demonstra um desempenho muito superior em faturamento e volume de vendas, o que compensa o frete mais caro.\n",
        "\n",
        "Com base nesses dados, recomendo que o Senhor João considere vender a Loja 4, priorizando o investimento nas lojas com melhor faturamento, avaliações mais consistentes e maior potencial de margem, mesmo com custos de frete mais altos. Essa estratégia permitirá consolidar a operação em unidades mais lucrativas e com maior aceitação dos clientes, garantindo sustentabilidade financeira e competitividade a longo prazo.\n",
        "\n"
      ],
      "metadata": {
        "id": "iwAhG5STRp_m"
      }
    }
  ]
}